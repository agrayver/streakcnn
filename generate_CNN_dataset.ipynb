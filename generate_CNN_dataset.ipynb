{
 "cells": [
  {
   "cell_type": "markdown",
   "metadata": {},
   "source": [
    "# Generate training and validation sets of streaks images"
   ]
  },
  {
   "cell_type": "code",
   "execution_count": 66,
   "metadata": {},
   "outputs": [],
   "source": [
    "import numpy as np\n",
    "from numpy import random\n",
    "from PIL import Image\n",
    "from PIL import ImageDraw\n",
    "from PIL import ImageOps\n",
    "from PIL import ImageFilter\n",
    "import h5py\n",
    "import time\n",
    "import matplotlib.pyplot as plt\n",
    "import matplotlib\n",
    "\n",
    "matplotlib.use('PDF')\n",
    "\n",
    "%matplotlib inline"
   ]
  },
  {
   "cell_type": "markdown",
   "metadata": {},
   "source": [
    "Fix random seed to make sure we get reproducible results."
   ]
  },
  {
   "cell_type": "code",
   "execution_count": 67,
   "metadata": {},
   "outputs": [],
   "source": [
    "my_seed = 12345\n",
    "random.seed(my_seed)\n",
    "np.random.seed(my_seed)"
   ]
  },
  {
   "cell_type": "markdown",
   "metadata": {},
   "source": [
    "Define a class that is used to generate streak images, which we will use to produce our training/validation/test sets"
   ]
  },
  {
   "cell_type": "code",
   "execution_count": 68,
   "metadata": {},
   "outputs": [],
   "source": [
    "class StreakImageGenerator:\n",
    "    def __init__(self, windowSize, maxDisplacement, nparticles,\\\n",
    "                 radius, uRms, phiRms):\n",
    "        self.winSz = windowSize\n",
    "        self.maxDisplacement = maxDisplacement\n",
    "        self.nparticles = nparticles\n",
    "        self.radius = radius\n",
    "        self.uRms = uRms\n",
    "        self.phiRms = phiRms\n",
    "        \n",
    "    def generate(self, count = 1, sigma = None):\n",
    "        images = np.zeros([count, 1, self.winSz, self.winSz], dtype=np.uint8)\n",
    "        un0 = np.zeros(count, dtype=np.float32)\n",
    "        phi0 = np.zeros(count, dtype=np.float32)\n",
    "        \n",
    "        img = Image.new('L', (self.winSz,self.winSz),(0))\n",
    "        draw = ImageDraw.Draw(img)\n",
    "\n",
    "        nstreaks = random.randint(self.nparticles.start, self.nparticles.stop, count)\n",
    "        \n",
    "        for i in range(0, count):\n",
    "            draw.rectangle((0, 0, self.winSz, self.winSz), fill=(0)) # clean image\n",
    "            \n",
    "            un0[i] = np.sqrt(random.uniform(0, 1)) * self.maxDisplacement\n",
    "            phi0[i] = random.uniform(0, np.pi) - np.pi / 2    \n",
    "                        \n",
    "            x_start = random.uniform(0, self.winSz, nstreaks[i])\n",
    "            y_start = random.uniform(0, self.winSz, nstreaks[i])\n",
    "        \n",
    "            un = un0[i] + random.uniform(.0, self.uRms, nstreaks[i])\n",
    "            phi = phi0[i] + random.uniform(-self.phiRms * np.pi / 180 / 2, self.phiRms * np.pi / 180 / 2, nstreaks[i])\n",
    "            \n",
    "            Dx = un * np.cos(phi)\n",
    "            Dy = un * np.sin(phi)\n",
    "            x_end = x_start + Dx \n",
    "            y_end = y_start + Dy \n",
    "            \n",
    "            for j in range(nstreaks[i]):\n",
    "                width = random.randint(self.radius.start, self.radius.stop)\n",
    "                intensity = random.randint(200, 255)\n",
    "                draw.line(((x_start[j], y_start[j]), \\\n",
    "                           (x_end[j], y_end[j])), fill=intensity, width=width)\n",
    "                \n",
    "            if sigma is None:\n",
    "                images[i,0,:,:] = img;\n",
    "            else:\n",
    "                images[i,0,:,:] = img.filter(ImageFilter.GaussianBlur(radius=sigma))\n",
    "                \n",
    "        return images,un0,phi0*180/np.pi,nstreaks"
   ]
  },
  {
   "cell_type": "markdown",
   "metadata": {},
   "source": [
    "Specify and generate training an validation sets"
   ]
  },
  {
   "cell_type": "code",
   "execution_count": 69,
   "metadata": {},
   "outputs": [
    {
     "name": "stdout",
     "output_type": "stream",
     "text": [
      "Generation finished, took 102.5s\n"
     ]
    },
    {
     "data": {
      "text/plain": [
       "(array([ 99548., 100232., 100133., 100237., 100108.,  99703.,  99736.,\n",
       "         99816., 100094., 100393.]),\n",
       " array([-8.9999680e+01, -7.1999725e+01, -5.3999771e+01, -3.5999821e+01,\n",
       "        -1.7999866e+01,  8.7738037e-05,  1.8000042e+01,  3.5999996e+01,\n",
       "         5.3999947e+01,  7.1999901e+01,  8.9999855e+01], dtype=float32),\n",
       " <a list of 10 Patch objects>)"
      ]
     },
     "execution_count": 69,
     "metadata": {},
     "output_type": "execute_result"
    },
    {
     "data": {
      "image/png": "[encoded data removed]",
      "text/plain": [
       "<Figure size 432x288 with 2 Axes>"
      ]
     },
     "metadata": {
      "needs_background": "light"
     },
     "output_type": "display_data"
    }
   ],
   "source": [
    "windowSize = 48\n",
    "maxDisplacement = 24\n",
    "nparticles = range(2, 10)\n",
    "radius = range(1, 4)\n",
    "uRms = 0\n",
    "phiRms = 0\n",
    "\n",
    "tic = time.time()\n",
    "generator = StreakImageGenerator(windowSize, maxDisplacement, \\\n",
    "                                 nparticles, radius, uRms, phiRms)\n",
    "\n",
    "count = 1000000;\n",
    "images, Un, Phi, _ = generator.generate(count = count, sigma = 1)\n",
    "\n",
    "print(\"Generation finished, took {:.1f}s\".format(time.time() - tic))\n",
    "\n",
    "fig = plt.figure()\n",
    "ax = fig.add_subplot(1,2,1)\n",
    "plt.hist(Un)\n",
    "ax = fig.add_subplot(1,2,2)\n",
    "plt.hist(Phi)"
   ]
  },
  {
   "cell_type": "markdown",
   "metadata": {},
   "source": [
    "Display random images and their parameters"
   ]
  },
  {
   "cell_type": "code",
   "execution_count": 70,
   "metadata": {},
   "outputs": [
    {
     "data": {
      "image/png": "[encoded data removed]",
      "text/plain": [
       "<Figure size 864x576 with 9 Axes>"
      ]
     },
     "metadata": {
      "needs_background": "light"
     },
     "output_type": "display_data"
    }
   ],
   "source": [
    "indices = random.randint(0, len(images), 9)\n",
    "\n",
    "plt.rc('text', usetex=True)\n",
    "plt.rc('font', family='serif')\n",
    "\n",
    "fig = plt.figure()\n",
    "for i in range(indices.size):\n",
    "    ax = fig.add_subplot(3, 3, i + 1)\n",
    "    plt.gray()\n",
    "    plt.imshow(images[indices[i],0,:,:])\n",
    "    ax.set_title(\"$\\Delta = %.1f$, $\\phi = %.1f$\" % (Un[indices[i]], Phi[indices[i]]), fontsize=16)\n",
    "\n",
    "fig.set_size_inches(np.array(fig.get_size_inches()) * 2)\n",
    "fig.subplots_adjust(hspace=0.35, wspace = 0.01)\n",
    "fig.savefig('paper/figs/figure1.png', dpi=300, format='png', bbox_inches='tight', pad_inches=0)\n",
    "\n",
    "plt.show()"
   ]
  },
  {
   "cell_type": "markdown",
   "metadata": {},
   "source": [
    "Save generated data"
   ]
  },
  {
   "cell_type": "code",
   "execution_count": 71,
   "metadata": {},
   "outputs": [],
   "source": [
    "h5f = h5py.File('data/train_val_sets_n=1M.h5', 'w')\n",
    "h5f.create_dataset('images', data=images, compression=\"gzip\", compression_opts=6)\n",
    "h5f.create_dataset('Un', data=Un, compression=\"gzip\", compression_opts=6)\n",
    "h5f.create_dataset('Phi', data=Phi, compression=\"gzip\", compression_opts=6)\n",
    "h5f.create_dataset('windowSize', data=windowSize)\n",
    "h5f.create_dataset('maxDisplacement', data=maxDisplacement)\n",
    "h5f.create_dataset('nparticles', data=nparticles)\n",
    "h5f.create_dataset('radius', data=radius)\n",
    "h5f.create_dataset('uRms', data=uRms)\n",
    "h5f.create_dataset('phiRms', data=phiRms)\n",
    "\n",
    "h5f.close()"
   ]
  },
  {
   "cell_type": "code",
   "execution_count": null,
   "metadata": {},
   "outputs": [],
   "source": []
  }
 ],
 "metadata": {
  "kernelspec": {
   "display_name": "Python 3",
   "language": "python",
   "name": "python3"
  },
  "language_info": {
   "codemirror_mode": {
    "name": "ipython",
    "version": 3
   },
   "file_extension": ".py",
   "mimetype": "text/x-python",
   "name": "python",
   "nbconvert_exporter": "python",
   "pygments_lexer": "ipython3",
   "version": "3.7.3"
  }
 },
 "nbformat": 4,
 "nbformat_minor": 2
}
