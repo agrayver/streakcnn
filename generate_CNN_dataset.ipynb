{
 "cells": [
  {
   "cell_type": "markdown",
   "metadata": {},
   "source": [
    "# Generate training and validation sets of streaks images"
   ]
  },
  {
   "cell_type": "code",
   "execution_count": 8,
   "metadata": {},
   "outputs": [],
   "source": [
    "import numpy as np\n",
    "from numpy import random\n",
    "from PIL import Image\n",
    "from PIL import ImageDraw\n",
    "from PIL import ImageOps\n",
    "from PIL import ImageFilter\n",
    "import h5py\n",
    "import time\n",
    "import matplotlib.pyplot as plt\n",
    "import matplotlib\n",
    "\n",
    "matplotlib.use('PDF')\n",
    "\n",
    "%matplotlib inline"
   ]
  },
  {
   "cell_type": "markdown",
   "metadata": {},
   "source": [
    "Fix random seed to make sure we get reproducible results."
   ]
  },
  {
   "cell_type": "code",
   "execution_count": 9,
   "metadata": {},
   "outputs": [],
   "source": [
    "my_seed = 12345\n",
    "random.seed(my_seed)\n",
    "np.random.seed(my_seed)"
   ]
  },
  {
   "cell_type": "markdown",
   "metadata": {},
   "source": [
    "Define a class that is used to generate streak images, which we will use to produce our training/validation/test sets"
   ]
  },
  {
   "cell_type": "code",
   "execution_count": 10,
   "metadata": {},
   "outputs": [],
   "source": [
    "class StreakImageGenerator:\n",
    "    def __init__(self, windowSize, maxDisplacement, nparticles,\\\n",
    "                 radius, uRms, phiRms):\n",
    "        self.winSz = windowSize\n",
    "        self.maxDisplacement = maxDisplacement\n",
    "        self.nparticles = nparticles\n",
    "        self.radius = radius\n",
    "        self.uRms = uRms\n",
    "        self.phiRms = phiRms\n",
    "        self.threshold = 90\n",
    "        self.image = Image.new('L', (self.winSz,self.winSz),(0))\n",
    "        self.draw = ImageDraw.Draw(self.image)\n",
    "        \n",
    "    def generate(self, count = 1, sigma = None, binarize = False):\n",
    "        images = np.zeros([count, 1, self.winSz, self.winSz], dtype=np.uint8)\n",
    "        un0 = np.zeros(count, dtype=np.float32)\n",
    "        phi0 = np.zeros(count, dtype=np.float32)\n",
    "                        \n",
    "        for i in range(0, count):\n",
    "            images[i,0,:,:],un0[i],phi0[i] = self.generate_image(sigma, binarize)\n",
    "            while np.count_nonzero(images[i,0,:,:]) < (un0[i]+(not binarize)*un0[i]*2):\n",
    "                images[i,0,:,:],un0[i],phi0[i] = self.generate_image(sigma, binarize)\n",
    "\n",
    "        return images,un0,phi0*180/np.pi\n",
    "    \n",
    "    def generate_image(self, sigma = None, binarize = False):\n",
    "        self.draw.rectangle((0, 0, self.winSz, self.winSz), fill=(0)) # clean image\n",
    "            \n",
    "        #un0 = np.sqrt(random.uniform(0, 1)) * self.maxDisplacement\n",
    "        un0 = random.uniform(1, self.maxDisplacement)\n",
    "        phi0 = random.uniform(5. * np.pi / 180, np.pi) - np.pi / 2    \n",
    "            \n",
    "        nstreaks = random.randint(self.nparticles.start, self.nparticles.stop)\n",
    "                        \n",
    "        x_start = random.uniform(0, self.winSz, nstreaks)\n",
    "        y_start = random.uniform(0, self.winSz, nstreaks)\n",
    "        \n",
    "        un = un0 + random.uniform(.0, self.uRms, nstreaks)\n",
    "        phi = phi0 + random.uniform(-self.phiRms * np.pi / 180 / 2, self.phiRms * np.pi / 180 / 2, nstreaks)\n",
    "            \n",
    "        Dx = un * np.cos(phi)\n",
    "        Dy = un * np.sin(phi)\n",
    "        x_end = x_start + Dx \n",
    "        y_end = y_start + Dy \n",
    "            \n",
    "        for j in range(nstreaks):\n",
    "            width = random.randint(self.radius.start, self.radius.stop)\n",
    "            intensity = random.randint(self.threshold, 255)\n",
    "            self.draw.line(((x_start[j], y_start[j]), \\\n",
    "                            (x_end[j], y_end[j])), fill=intensity, width=width)\n",
    "            \n",
    "        if sigma is None:\n",
    "            image = self.image;\n",
    "        else:\n",
    "            data = np.array(self.image.getdata(), dtype=float);\n",
    "            data *= random.uniform(0.5, 1.5, size=self.winSz*self.winSz)\n",
    "            self.image.putdata(data)\n",
    "            image = self.image.filter(ImageFilter.GaussianBlur(radius = sigma))\n",
    "            data = np.array(image.getdata())\n",
    "            data[data > 255] = 255\n",
    "            image.putdata(data)\n",
    "            \n",
    "        if binarize == True:\n",
    "            image = image.point(lambda p: p > self.threshold and 255)\n",
    "            \n",
    "        return image,un0,phi0"
   ]
  },
  {
   "cell_type": "markdown",
   "metadata": {},
   "source": [
    "Specify and generate training an validation sets"
   ]
  },
  {
   "cell_type": "code",
   "execution_count": 11,
   "metadata": {},
   "outputs": [
    {
     "name": "stdout",
     "output_type": "stream",
     "text": [
      "Generation finished, took 911.4s\n"
     ]
    },
    {
     "data": {
      "text/plain": [
       "(array([100230., 100269.,  99809.,  99672., 100470., 100153., 100024.,\n",
       "         99059., 100327.,  99987.]),\n",
       " array([-84.99999  , -67.50003  , -50.000076 , -32.500114 , -15.000157 ,\n",
       "          2.4998016,  19.99976  ,  37.499718 ,  54.99968  ,  72.49963  ,\n",
       "         89.999596 ], dtype=float32),\n",
       " <a list of 10 Patch objects>)"
      ]
     },
     "execution_count": 11,
     "metadata": {},
     "output_type": "execute_result"
    },
    {
     "data": {
      "image/png": "[encoded data removed]",
      "text/plain": [
       "<Figure size 432x288 with 2 Axes>"
      ]
     },
     "metadata": {
      "needs_background": "light"
     },
     "output_type": "display_data"
    }
   ],
   "source": [
    "windowSize = 48\n",
    "maxDisplacement = 24\n",
    "nparticles = range(2, 10)\n",
    "radius = range(1, 4)\n",
    "uRms = 0\n",
    "phiRms = 0\n",
    "\n",
    "tic = time.time()\n",
    "generator = StreakImageGenerator(windowSize, maxDisplacement, \\\n",
    "                                 nparticles, radius, uRms, phiRms)\n",
    "\n",
    "count = 1000000;\n",
    "images, Un, Phi = generator.generate(count = count, sigma = 1, binarize = False)\n",
    "\n",
    "print(\"Generation finished, took {:.1f}s\".format(time.time() - tic))\n",
    "\n",
    "fig = plt.figure()\n",
    "ax = fig.add_subplot(1,2,1)\n",
    "plt.hist(Un)\n",
    "ax = fig.add_subplot(1,2,2)\n",
    "plt.hist(Phi)"
   ]
  },
  {
   "cell_type": "markdown",
   "metadata": {},
   "source": [
    "Display random images and their parameters"
   ]
  },
  {
   "cell_type": "code",
   "execution_count": 12,
   "metadata": {},
   "outputs": [
    {
     "data": {
      "image/png": "[encoded data removed]",
      "text/plain": [
       "<Figure size 864x576 with 9 Axes>"
      ]
     },
     "metadata": {
      "needs_background": "light"
     },
     "output_type": "display_data"
    }
   ],
   "source": [
    "indices = random.randint(0, len(images), 9)\n",
    "\n",
    "plt.rc('text', usetex=True)\n",
    "plt.rc('font', family='serif')\n",
    "\n",
    "fig = plt.figure()\n",
    "for i in range(indices.size):\n",
    "    ax = fig.add_subplot(3, 3, i + 1)\n",
    "    plt.imshow(images[indices[i],0,:,:])\n",
    "    ax.set_title(\"$\\Delta = %.1f$, $\\phi = %.1f$\" % (Un[indices[i]], Phi[indices[i]]), fontsize=16)\n",
    "    plt.gray()\n",
    "    #print(np.count_nonzero(images[indices[i],0,:,:]))\n",
    "\n",
    "fig.set_size_inches(np.array(fig.get_size_inches()) * 2)\n",
    "fig.subplots_adjust(hspace=0.35, wspace = 0.01)\n",
    "fig.savefig('paper/figs/figure1.png', dpi=300, format='png', bbox_inches='tight', pad_inches=0)\n",
    "\n",
    "plt.show()"
   ]
  },
  {
   "cell_type": "markdown",
   "metadata": {},
   "source": [
    "Save generated data"
   ]
  },
  {
   "cell_type": "code",
   "execution_count": 14,
   "metadata": {},
   "outputs": [],
   "source": [
    "h5f = h5py.File('data/train_val_sets_grayscale_gradient_uniformDisp_n=1M.h5', 'w')\n",
    "h5f.create_dataset('images', data=images, compression=\"gzip\", compression_opts=6)\n",
    "h5f.create_dataset('Un', data=Un, compression=\"gzip\", compression_opts=6)\n",
    "h5f.create_dataset('Phi', data=Phi, compression=\"gzip\", compression_opts=6)\n",
    "h5f.create_dataset('windowSize', data=windowSize)\n",
    "h5f.create_dataset('maxDisplacement', data=maxDisplacement)\n",
    "h5f.create_dataset('nparticles', data=nparticles)\n",
    "h5f.create_dataset('radius', data=radius)\n",
    "h5f.create_dataset('uRms', data=uRms)\n",
    "h5f.create_dataset('phiRms', data=phiRms)\n",
    "\n",
    "h5f.close()"
   ]
  }
 ],
 "metadata": {
  "kernelspec": {
   "display_name": "Python 3",
   "language": "python",
   "name": "python3"
  },
  "language_info": {
   "codemirror_mode": {
    "name": "ipython",
    "version": 3
   },
   "file_extension": ".py",
   "mimetype": "text/x-python",
   "name": "python",
   "nbconvert_exporter": "python",
   "pygments_lexer": "ipython3",
   "version": "3.7.3"
  }
 },
 "nbformat": 4,
 "nbformat_minor": 2
}
